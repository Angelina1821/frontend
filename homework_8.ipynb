{
  "nbformat": 4,
  "nbformat_minor": 0,
  "metadata": {
    "colab": {
      "provenance": [],
      "authorship_tag": "ABX9TyNBlFhw+uFF2OvspdEcSDpt",
      "include_colab_link": true
    },
    "kernelspec": {
      "name": "python3",
      "display_name": "Python 3"
    },
    "language_info": {
      "name": "python"
    }
  },
  "cells": [
    {
      "cell_type": "markdown",
      "metadata": {
        "id": "view-in-github",
        "colab_type": "text"
      },
      "source": [
        "<a href=\"https://colab.research.google.com/github/Angelina1821/frontend/blob/main/homework_8.ipynb\" target=\"_parent\"><img src=\"https://colab.research.google.com/assets/colab-badge.svg\" alt=\"Open In Colab\"/></a>"
      ]
    },
    {
      "cell_type": "markdown",
      "source": [
        "import csv\n",
        "\n",
        "file = open('/content/web_clients_correct.csv', 'r+')\n",
        "csv_reader = csv.reader(file)\n",
        "\n",
        "for row in csv_reader:\n",
        "  for i in range(10):\n",
        "    name = row[0]\n",
        "    age = row[3]\n",
        "    device_type = row[1]\n",
        "    browser = row[2]\n",
        "    bill = row[5]\n",
        "    region = row[6]\n",
        "    print(f'ФИО: {name}\\nВозраст: {age}\\nУстройство, с которого выполнялась покупка: {device_type}\\nБраузер: {browser}\\nСумма чека: {bill}\\nРегион покупки: {region}\\n\\n')\n"
      ],
      "metadata": {
        "id": "ePtV7OTog1qi"
      }
    },
    {
      "cell_type": "code",
      "source": [
        "import csv\n",
        "from string import Template\n",
        "\n",
        "file = open('/content/web_clients_correct.csv', 'r+')\n",
        "csv_reader = csv.reader(file)\n",
        "\n",
        "file_output = open('output.txt', 'w')\n",
        "\n",
        "for row in csv_reader:\n",
        "  template_string = Template(f'Пользователь $name $sex пола, $age лет совершила покупку на $bill у.е. с $device_type браузера $browser. Регион, из которого совершалась покупка: $region .\\n \\n')\n",
        "  prepared_string = template_string.substitute(name = row[0], bill = row[5], sex=row[3], age = row[4], device_type = row[1], region = row[6], browser = row[2])\n",
        "  file_output.write(prepared_string)\n",
        "  break\n",
        "\n",
        "\n",
        "\n",
        "\n",
        "\n"
      ],
      "metadata": {
        "id": "SUDfaS-yz2FI",
        "colab": {
          "base_uri": "https://localhost:8080/",
          "height": 245
        },
        "outputId": "79e0677e-89b2-42c2-8610-0c9bffedc64a"
      },
      "execution_count": null,
      "outputs": [
        {
          "output_type": "error",
          "ename": "FileNotFoundError",
          "evalue": "ignored",
          "traceback": [
            "\u001b[0;31m---------------------------------------------------------------------------\u001b[0m",
            "\u001b[0;31mFileNotFoundError\u001b[0m                         Traceback (most recent call last)",
            "\u001b[0;32m<ipython-input-4-35262b3b22fe>\u001b[0m in \u001b[0;36m<cell line: 4>\u001b[0;34m()\u001b[0m\n\u001b[1;32m      2\u001b[0m \u001b[0;32mfrom\u001b[0m \u001b[0mstring\u001b[0m \u001b[0;32mimport\u001b[0m \u001b[0mTemplate\u001b[0m\u001b[0;34m\u001b[0m\u001b[0;34m\u001b[0m\u001b[0m\n\u001b[1;32m      3\u001b[0m \u001b[0;34m\u001b[0m\u001b[0m\n\u001b[0;32m----> 4\u001b[0;31m \u001b[0mfile\u001b[0m \u001b[0;34m=\u001b[0m \u001b[0mopen\u001b[0m\u001b[0;34m(\u001b[0m\u001b[0;34m'/content/web_clients_correct.csv'\u001b[0m\u001b[0;34m,\u001b[0m \u001b[0;34m'r+'\u001b[0m\u001b[0;34m)\u001b[0m\u001b[0;34m\u001b[0m\u001b[0;34m\u001b[0m\u001b[0m\n\u001b[0m\u001b[1;32m      5\u001b[0m \u001b[0mcsv_reader\u001b[0m \u001b[0;34m=\u001b[0m \u001b[0mcsv\u001b[0m\u001b[0;34m.\u001b[0m\u001b[0mreader\u001b[0m\u001b[0;34m(\u001b[0m\u001b[0mfile\u001b[0m\u001b[0;34m)\u001b[0m\u001b[0;34m\u001b[0m\u001b[0;34m\u001b[0m\u001b[0m\n\u001b[1;32m      6\u001b[0m \u001b[0;34m\u001b[0m\u001b[0m\n",
            "\u001b[0;31mFileNotFoundError\u001b[0m: [Errno 2] No such file or directory: '/content/web_clients_correct.csv'"
          ]
        }
      ]
    }
  ]
}